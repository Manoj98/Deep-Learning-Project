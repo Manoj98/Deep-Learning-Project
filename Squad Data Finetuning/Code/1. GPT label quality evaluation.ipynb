{
 "cells": [
  {
   "cell_type": "markdown",
   "metadata": {},
   "source": [
    "## Evaluation of Quality of GPT-Annotated Labels\n",
    "\n",
    "* We generated GPT-annotated labels for a sample of SQUAD dataset. Now, our aim is to evaluate the quality of the annotations"
   ]
  },
  {
   "cell_type": "code",
   "execution_count": 1,
   "metadata": {},
   "outputs": [],
   "source": [
    "import pandas as pd\n",
    "import numpy as np\n",
    "from nltk.translate.bleu_score import sentence_bleu, SmoothingFunction\n",
    "import string\n",
    "import regex as re"
   ]
  },
  {
   "cell_type": "markdown",
   "metadata": {},
   "source": [
    "#### Read data"
   ]
  },
  {
   "cell_type": "code",
   "execution_count": 2,
   "metadata": {},
   "outputs": [],
   "source": [
    "squad = pd.read_csv('squad_df.csv')"
   ]
  },
  {
   "cell_type": "code",
   "execution_count": 60,
   "metadata": {},
   "outputs": [
    {
     "data": {
      "text/plain": [
       "4"
      ]
     },
     "execution_count": 60,
     "metadata": {},
     "output_type": "execute_result"
    }
   ],
   "source": [
    "squad['synthetic_answer'].isna().sum()"
   ]
  },
  {
   "cell_type": "markdown",
   "metadata": {},
   "source": [
    "#### Treating Text data"
   ]
  },
  {
   "cell_type": "code",
   "execution_count": 3,
   "metadata": {},
   "outputs": [],
   "source": [
    "#squad['answer_lower'] = squad['answer'].apply(lambda x: x.translate(str.maketrans('', '', string.punctuation)).lower())\n",
    "# squad['synthetic_answer'] = squad['synthetic_answer'].fillna('isimpossible')\n",
    "# squad['synthetic_answer_lower'] = squad['synthetic_answer'].apply(lambda x: x.translate(str.maketrans('', '', string.punctuation)).lower())\n",
    "\n",
    "squad['answer_lower'] = squad['answer'].apply(lambda x: x.replace('\"',\"\").replace('?',\"\").replace('!',\"\").lower())\n",
    "squad['synthetic_answer'] = squad['synthetic_answer'].fillna('isimpossible')\n",
    "squad['synthetic_answer_lower'] = squad['synthetic_answer'].apply(lambda x: re.sub(r'(?<!\\d)\\.(?!\\d)', '', x).replace('\"',\"\").replace('?',\"\").replace('!',\"\").lower())\n",
    "\n",
    "squad['answer_low_word_list'] = squad['answer_lower'].apply(lambda x: x.split(\" \"))\n",
    "squad['syn_answer_low_word_list'] = [x.split(\" \") for x in squad['synthetic_answer_lower']]"
   ]
  },
  {
   "cell_type": "code",
   "execution_count": 36,
   "metadata": {},
   "outputs": [
    {
     "data": {
      "text/plain": [
       "context                     She has received co-writing credits for most o...\n",
       "answer                                                              Cater 2 U\n",
       "answer_low_word_list                                            [cater, 2, u]\n",
       "synthetic_answer                                                  \"Cater 2 U\"\n",
       "syn_answer_low_word_list                                        [cater, 2, u]\n",
       "Name: 704, dtype: object"
      ]
     },
     "execution_count": 36,
     "metadata": {},
     "output_type": "execute_result"
    }
   ],
   "source": [
    "## Testing conversions\n",
    "squad[['context','answer','answer_low_word_list','synthetic_answer','syn_answer_low_word_list']].loc[704]"
   ]
  },
  {
   "cell_type": "code",
   "execution_count": 11,
   "metadata": {},
   "outputs": [
    {
     "data": {
      "text/plain": [
       "context                     Notre Dame is known for its competitive admiss...\n",
       "answer                                                                  39.1%\n",
       "answer_low_word_list                                                  [39.1%]\n",
       "synthetic_answer                                                        39.1%\n",
       "syn_answer_low_word_list                                              [39.1%]\n",
       "Name: 42, dtype: object"
      ]
     },
     "execution_count": 11,
     "metadata": {},
     "output_type": "execute_result"
    }
   ],
   "source": [
    "## Testing conversions\n",
    "squad[['context','answer','answer_low_word_list','synthetic_answer','syn_answer_low_word_list']].loc[42]"
   ]
  },
  {
   "cell_type": "code",
   "execution_count": 5,
   "metadata": {},
   "outputs": [],
   "source": [
    "# squad.head(5)"
   ]
  },
  {
   "cell_type": "markdown",
   "metadata": {},
   "source": [
    "##### Evaluating the accuracy of GPT-annotated data"
   ]
  },
  {
   "cell_type": "code",
   "execution_count": 28,
   "metadata": {},
   "outputs": [
    {
     "data": {
      "text/plain": [
       "False    0.604511\n",
       "True     0.395489\n",
       "Name: quality_check, dtype: float64"
      ]
     },
     "execution_count": 28,
     "metadata": {},
     "output_type": "execute_result"
    }
   ],
   "source": [
    "squad['quality_check'] = squad['answer']==squad['synthetic_answer']\n",
    "squad['quality_check'].value_counts()/len(squad)"
   ]
  },
  {
   "cell_type": "code",
   "execution_count": 27,
   "metadata": {},
   "outputs": [
    {
     "data": {
      "text/plain": [
       "True     0.509062\n",
       "False    0.490938\n",
       "Name: quality_check, dtype: float64"
      ]
     },
     "execution_count": 27,
     "metadata": {},
     "output_type": "execute_result"
    }
   ],
   "source": [
    "squad['quality_check'] = squad['answer_low_word_list']==squad['syn_answer_low_word_list']\n",
    "squad['quality_check'].value_counts()/len(squad)"
   ]
  },
  {
   "cell_type": "code",
   "execution_count": 5,
   "metadata": {},
   "outputs": [
    {
     "data": {
      "text/plain": [
       "True     1264\n",
       "False    1219\n",
       "Name: quality_check, dtype: int64"
      ]
     },
     "execution_count": 5,
     "metadata": {},
     "output_type": "execute_result"
    }
   ],
   "source": [
    "squad['quality_check'] = squad['answer_lower']==squad['synthetic_answer_lower']\n",
    "squad['quality_check'].value_counts()"
   ]
  },
  {
   "cell_type": "code",
   "execution_count": 7,
   "metadata": {},
   "outputs": [],
   "source": [
    "# squad[squad['quality_check']==0].head(5)"
   ]
  },
  {
   "cell_type": "markdown",
   "metadata": {},
   "source": [
    "#### Direct string match comparison does not seem to be the most accurate way of evaluating quality of GPt-annotated labels. We need to find better metrics. Thus, we will use BLEU score"
   ]
  },
  {
   "cell_type": "markdown",
   "metadata": {},
   "source": [
    "#### Evalauting BLEU Score parameters"
   ]
  },
  {
   "cell_type": "code",
   "execution_count": null,
   "metadata": {},
   "outputs": [
    {
     "name": "stdout",
     "output_type": "stream",
     "text": [
      "Synthetic string:['my', 'name', 'is', 'palash', 'choudhary']\n",
      "Actual string:['palash', 'choudhary']\n",
      "1 Gram:0.22313016014842982\n",
      "2 Gram:0.22313016014842982\n",
      "3 Gram:4.9648108639081e-309\n",
      "4 Gram:4.9648108639081e-309\n",
      "Equal Gram:3.3283615235885645e-155\n",
      "No weights Gram:3.3283615235885645e-155\n",
      "SmoothieMethod 4 Gram:0.04939847123496026\n",
      "SmoothieMethod 3 Gram:0.13267398701010466\n"
     ]
    },
    {
     "name": "stderr",
     "output_type": "stream",
     "text": [
      "C:\\Users\\mails\\AppData\\Local\\Packages\\PythonSoftwareFoundation.Python.3.10_qbz5n2kfra8p0\\LocalCache\\local-packages\\Python310\\site-packages\\nltk\\translate\\bleu_score.py:552: UserWarning: \n",
      "The hypothesis contains 0 counts of 3-gram overlaps.\n",
      "Therefore the BLEU score evaluates to 0, independently of\n",
      "how many N-gram overlaps of lower order it contains.\n",
      "Consider using lower n-gram order or use SmoothingFunction()\n",
      "  warnings.warn(_msg)\n",
      "C:\\Users\\mails\\AppData\\Local\\Packages\\PythonSoftwareFoundation.Python.3.10_qbz5n2kfra8p0\\LocalCache\\local-packages\\Python310\\site-packages\\nltk\\translate\\bleu_score.py:552: UserWarning: \n",
      "The hypothesis contains 0 counts of 4-gram overlaps.\n",
      "Therefore the BLEU score evaluates to 0, independently of\n",
      "how many N-gram overlaps of lower order it contains.\n",
      "Consider using lower n-gram order or use SmoothingFunction()\n",
      "  warnings.warn(_msg)\n"
     ]
    }
   ],
   "source": [
    "ref = [\"my\",\"name\",\"is\",\"palash\",\"choudhary\"]\n",
    "check = [\"palash\",\"choudhary\"]\n",
    "print(f'Synthetic string:{ref}')\n",
    "print(f'Actual string:{check}')\n",
    "\n",
    "print(f\"1 Gram:{sentence_bleu([ref],check, weights=(1,0,0,0))}\")\n",
    "print(f\"2 Gram:{sentence_bleu([ref],check, weights=(0,1,0,0))}\")\n",
    "print(f\"3 Gram:{sentence_bleu([ref],check, weights=(0,0,1,0))}\")\n",
    "print(f\"4 Gram:{sentence_bleu([ref],check, weights=(0,0,0,1))}\")\n",
    "print(f\"Equal Gram:{sentence_bleu([ref],check, weights=(0.25,0.25,0.25,0.25))}\")\n",
    "print(f\"No weights Gram:{sentence_bleu([ref],check)}\")\n",
    "smoothie4 = SmoothingFunction().method4\n",
    "print(f\"SmoothieMethod 4 Gram:{sentence_bleu([ref],check,smoothing_function=smoothie4)}\")\n",
    "smoothie3 = SmoothingFunction().method3\n",
    "print(f\"SmoothieMethod 3 Gram:{sentence_bleu([ref],check,smoothing_function=smoothie3)}\")"
   ]
  },
  {
   "cell_type": "code",
   "execution_count": 14,
   "metadata": {},
   "outputs": [
    {
     "name": "stdout",
     "output_type": "stream",
     "text": [
      "Synthetic string:['saint', 'bernadette', 'soubirous']\n",
      "Actual string:['saint', 'bernadette', 'soubirous']\n",
      "1 Gram:1.0\n",
      "2 Gram:1.0\n",
      "3 Gram:1.0\n",
      "4 Gram:2.2250738585072626e-308\n",
      "Equal Gram:1.2213386697554703e-77\n",
      "No weights Gram:1.2213386697554703e-77\n",
      "SmoothieMethod 4 Gram:0.5757197301274735\n",
      "SmoothieMethod 3 Gram:0.8408964152537145\n"
     ]
    },
    {
     "name": "stderr",
     "output_type": "stream",
     "text": [
      "C:\\Users\\mails\\AppData\\Local\\Packages\\PythonSoftwareFoundation.Python.3.10_qbz5n2kfra8p0\\LocalCache\\local-packages\\Python310\\site-packages\\nltk\\translate\\bleu_score.py:552: UserWarning: \n",
      "The hypothesis contains 0 counts of 4-gram overlaps.\n",
      "Therefore the BLEU score evaluates to 0, independently of\n",
      "how many N-gram overlaps of lower order it contains.\n",
      "Consider using lower n-gram order or use SmoothingFunction()\n",
      "  warnings.warn(_msg)\n"
     ]
    }
   ],
   "source": [
    "ref = squad['answer_low_word_list'][0]\n",
    "check = squad['syn_answer_low_word_list'][0]\n",
    "print(f'Synthetic string:{ref}')\n",
    "print(f'Actual string:{check}')\n",
    "\n",
    "print(f\"1 Gram:{sentence_bleu([ref],check, weights=(1,0,0,0))}\")\n",
    "print(f\"2 Gram:{sentence_bleu([ref],check, weights=(0,1,0,0))}\")\n",
    "print(f\"3 Gram:{sentence_bleu([ref],check, weights=(0,0,1,0))}\")\n",
    "print(f\"4 Gram:{sentence_bleu([ref],check, weights=(0,0,0,1))}\")\n",
    "print(f\"Equal Gram:{sentence_bleu([ref],check, weights=(0.25,0.25,0.25,0.25))}\")\n",
    "print(f\"No weights Gram:{sentence_bleu([ref],check)}\")\n",
    "smoothie4 = SmoothingFunction().method4\n",
    "print(f\"SmoothieMethod 4 Gram:{sentence_bleu([ref],check,smoothing_function=smoothie4)}\")\n",
    "smoothie3 = SmoothingFunction().method3\n",
    "print(f\"SmoothieMethod 3 Gram:{sentence_bleu([ref],check,smoothing_function=smoothie3)}\")"
   ]
  },
  {
   "cell_type": "code",
   "execution_count": 71,
   "metadata": {},
   "outputs": [
    {
     "name": "stdout",
     "output_type": "stream",
     "text": [
      "Actual string:['september', '1876']\n",
      "Synthetic string:['1876']\n",
      "1 Gram:0.36787944117144233\n",
      "2 Gram:8.18558927632837e-309\n",
      "3 Gram:8.18558927632837e-309\n",
      "4 Gram:8.18558927632837e-309\n",
      "Equal Gram:6.702145341854094e-232\n",
      "No weights Gram:6.702145341854094e-232\n",
      "SmoothieMethod 4 Gram:0.36787944117144233\n",
      "SmoothieMethod 3 Gram:0.13006502375572224\n"
     ]
    },
    {
     "name": "stderr",
     "output_type": "stream",
     "text": [
      "C:\\Users\\mails\\AppData\\Local\\Packages\\PythonSoftwareFoundation.Python.3.10_qbz5n2kfra8p0\\LocalCache\\local-packages\\Python310\\site-packages\\nltk\\translate\\bleu_score.py:552: UserWarning: \n",
      "The hypothesis contains 0 counts of 2-gram overlaps.\n",
      "Therefore the BLEU score evaluates to 0, independently of\n",
      "how many N-gram overlaps of lower order it contains.\n",
      "Consider using lower n-gram order or use SmoothingFunction()\n",
      "  warnings.warn(_msg)\n",
      "C:\\Users\\mails\\AppData\\Local\\Packages\\PythonSoftwareFoundation.Python.3.10_qbz5n2kfra8p0\\LocalCache\\local-packages\\Python310\\site-packages\\nltk\\translate\\bleu_score.py:552: UserWarning: \n",
      "The hypothesis contains 0 counts of 3-gram overlaps.\n",
      "Therefore the BLEU score evaluates to 0, independently of\n",
      "how many N-gram overlaps of lower order it contains.\n",
      "Consider using lower n-gram order or use SmoothingFunction()\n",
      "  warnings.warn(_msg)\n",
      "C:\\Users\\mails\\AppData\\Local\\Packages\\PythonSoftwareFoundation.Python.3.10_qbz5n2kfra8p0\\LocalCache\\local-packages\\Python310\\site-packages\\nltk\\translate\\bleu_score.py:552: UserWarning: \n",
      "The hypothesis contains 0 counts of 4-gram overlaps.\n",
      "Therefore the BLEU score evaluates to 0, independently of\n",
      "how many N-gram overlaps of lower order it contains.\n",
      "Consider using lower n-gram order or use SmoothingFunction()\n",
      "  warnings.warn(_msg)\n"
     ]
    }
   ],
   "source": [
    "# print(f'Synthetic string:{squad[\"syn_answer_low_word_list\"][0]}')\n",
    "# print(f'Actual string:{squad[\"answer_low_word_list\"][0]}')\n",
    "ref = [\"september\",\"1876\"]\n",
    "check = [\"1876\"]\n",
    "print(f'Actual string:{ref}')\n",
    "print(f'Synthetic string:{check}')\n",
    "\n",
    "print(f\"1 Gram:{sentence_bleu([ref],check, weights=(1,0,0,0))}\")\n",
    "print(f\"2 Gram:{sentence_bleu([ref],check, weights=(0,1,0,0))}\")\n",
    "print(f\"3 Gram:{sentence_bleu([ref],check, weights=(0,0,1,0))}\")\n",
    "print(f\"4 Gram:{sentence_bleu([ref],check, weights=(0,0,0,1))}\")\n",
    "print(f\"Equal Gram:{sentence_bleu([ref],check, weights=(0.25,0.25,0.25,0.25))}\")\n",
    "print(f\"No weights Gram:{sentence_bleu([ref],check)}\")\n",
    "smoothie4 = SmoothingFunction().method4\n",
    "print(f\"SmoothieMethod 4 Gram:{sentence_bleu([ref],check,smoothing_function=smoothie4)}\")\n",
    "smoothie3 = SmoothingFunction().method3\n",
    "print(f\"SmoothieMethod 3 Gram:{sentence_bleu([ref],check,smoothing_function=smoothie3)}\")"
   ]
  },
  {
   "cell_type": "markdown",
   "metadata": {},
   "source": [
    "#### We decide to move with a combination of 1 gram and method 3 BLEU score"
   ]
  },
  {
   "cell_type": "code",
   "execution_count": 4,
   "metadata": {},
   "outputs": [
    {
     "name": "stderr",
     "output_type": "stream",
     "text": [
      "C:\\Users\\mails\\AppData\\Local\\Packages\\PythonSoftwareFoundation.Python.3.10_qbz5n2kfra8p0\\LocalCache\\local-packages\\Python310\\site-packages\\nltk\\translate\\bleu_score.py:552: UserWarning: \n",
      "The hypothesis contains 0 counts of 4-gram overlaps.\n",
      "Therefore the BLEU score evaluates to 0, independently of\n",
      "how many N-gram overlaps of lower order it contains.\n",
      "Consider using lower n-gram order or use SmoothingFunction()\n",
      "  warnings.warn(_msg)\n",
      "C:\\Users\\mails\\AppData\\Local\\Packages\\PythonSoftwareFoundation.Python.3.10_qbz5n2kfra8p0\\LocalCache\\local-packages\\Python310\\site-packages\\nltk\\translate\\bleu_score.py:552: UserWarning: \n",
      "The hypothesis contains 0 counts of 2-gram overlaps.\n",
      "Therefore the BLEU score evaluates to 0, independently of\n",
      "how many N-gram overlaps of lower order it contains.\n",
      "Consider using lower n-gram order or use SmoothingFunction()\n",
      "  warnings.warn(_msg)\n",
      "C:\\Users\\mails\\AppData\\Local\\Packages\\PythonSoftwareFoundation.Python.3.10_qbz5n2kfra8p0\\LocalCache\\local-packages\\Python310\\site-packages\\nltk\\translate\\bleu_score.py:552: UserWarning: \n",
      "The hypothesis contains 0 counts of 3-gram overlaps.\n",
      "Therefore the BLEU score evaluates to 0, independently of\n",
      "how many N-gram overlaps of lower order it contains.\n",
      "Consider using lower n-gram order or use SmoothingFunction()\n",
      "  warnings.warn(_msg)\n"
     ]
    }
   ],
   "source": [
    "squad['bleu_score'] = [max(sentence_bleu([squad['answer_low_word_list'][i]], squad['syn_answer_low_word_list'][i],\n",
    "                                     smoothing_function=SmoothingFunction().method3),\n",
    "                                     sentence_bleu([squad['answer_low_word_list'][i]], squad['syn_answer_low_word_list'][i],\n",
    "                                     weights=(1,0,0,0))\n",
    "                                     ) for i in range(0, len(squad))]\n",
    "#squad.head(10)"
   ]
  },
  {
   "cell_type": "code",
   "execution_count": 5,
   "metadata": {},
   "outputs": [
    {
     "data": {
      "text/plain": [
       "count    2483.000000\n",
       "mean        0.677994\n",
       "std         0.379201\n",
       "min         0.000000\n",
       "25%         0.333333\n",
       "50%         1.000000\n",
       "75%         1.000000\n",
       "max         1.000000\n",
       "Name: bleu_score, dtype: float64"
      ]
     },
     "execution_count": 5,
     "metadata": {},
     "output_type": "execute_result"
    }
   ],
   "source": [
    "squad['bleu_score'].describe()"
   ]
  },
  {
   "cell_type": "code",
   "execution_count": 6,
   "metadata": {},
   "outputs": [
    {
     "data": {
      "text/plain": [
       "(array([ 320.,  115.,  123.,  122.,   45.,  229.,  116.,   82.,   64.,\n",
       "        1267.]),\n",
       " array([0. , 0.1, 0.2, 0.3, 0.4, 0.5, 0.6, 0.7, 0.8, 0.9, 1. ]),\n",
       " <BarContainer object of 10 artists>)"
      ]
     },
     "execution_count": 6,
     "metadata": {},
     "output_type": "execute_result"
    },
    {
     "data": {
      "image/png": "[encoded data removed]",
      "text/plain": [
       "<Figure size 640x480 with 1 Axes>"
      ]
     },
     "metadata": {},
     "output_type": "display_data"
    }
   ],
   "source": [
    "import matplotlib.pyplot as plt\n",
    "\n",
    "plt.hist(squad['bleu_score'].tolist())"
   ]
  },
  {
   "cell_type": "code",
   "execution_count": 7,
   "metadata": {},
   "outputs": [
    {
     "data": {
      "text/plain": [
       "0.7080144985904149"
      ]
     },
     "execution_count": 7,
     "metadata": {},
     "output_type": "execute_result"
    }
   ],
   "source": [
    "len(squad[squad['bleu_score']>=0.5])/len(squad)"
   ]
  },
  {
   "cell_type": "code",
   "execution_count": null,
   "metadata": {},
   "outputs": [],
   "source": [
    "#squad[(squad['bleu_score']>=0.4) & (squad['bleu_score']<0.5)]"
   ]
  },
  {
   "cell_type": "markdown",
   "metadata": {},
   "source": [
    "#### Experimentation with weighted BLEU score(Optional)"
   ]
  },
  {
   "cell_type": "code",
   "execution_count": 11,
   "metadata": {},
   "outputs": [],
   "source": [
    "# squad['ans_length'] = [len(squad['answer_low_word_list'][x]) for x in range(0, len(squad))]\n",
    "# squad['syn_ans_length'] = [len(squad['syn_answer_low_word_list'][x]) for x in range(0, len(squad))]\n",
    "# squad['weighted_bleu_score'] = squad['bleu_score']*(squad['ans_length'])/squad['syn_ans_length']"
   ]
  },
  {
   "cell_type": "code",
   "execution_count": 12,
   "metadata": {},
   "outputs": [
    {
     "data": {
      "text/plain": [
       "count    2483.000000\n",
       "mean        0.627556\n",
       "std         0.417916\n",
       "min         0.000000\n",
       "25%         0.160000\n",
       "50%         0.955375\n",
       "75%         1.000000\n",
       "max         1.000000\n",
       "Name: weighted_bleu_score, dtype: float64"
      ]
     },
     "execution_count": 12,
     "metadata": {},
     "output_type": "execute_result"
    }
   ],
   "source": [
    "# squad['weighted_bleu_score'].describe()"
   ]
  },
  {
   "cell_type": "code",
   "execution_count": 13,
   "metadata": {},
   "outputs": [
    {
     "data": {
      "text/plain": [
       "(array([ 529.,  113.,  169.,   33.,   92.,  136.,   62.,   50.,   29.,\n",
       "        1270.]),\n",
       " array([0. , 0.1, 0.2, 0.3, 0.4, 0.5, 0.6, 0.7, 0.8, 0.9, 1. ]),\n",
       " <BarContainer object of 10 artists>)"
      ]
     },
     "execution_count": 13,
     "metadata": {},
     "output_type": "execute_result"
    },
    {
     "data": {
      "image/png": "[encoded data removed]",
      "text/plain": [
       "<Figure size 640x480 with 1 Axes>"
      ]
     },
     "metadata": {},
     "output_type": "display_data"
    }
   ],
   "source": [
    "# plt.hist(squad['weighted_bleu_score'].tolist())"
   ]
  },
  {
   "cell_type": "code",
   "execution_count": null,
   "metadata": {},
   "outputs": [],
   "source": [
    "#squad[(squad['bleu_score']>=0.3) & (squad['bleu_score']<=0.4)]"
   ]
  },
  {
   "cell_type": "markdown",
   "metadata": {},
   "source": [
    "#### Experimentation with conidtional BLEU score (optional)"
   ]
  },
  {
   "cell_type": "code",
   "execution_count": 14,
   "metadata": {},
   "outputs": [],
   "source": [
    "# squad['final_bleu_score'] = [squad['weighted_bleu_score'][x] if squad['weighted_bleu_score'][x] > squad['bleu_score'][x]\n",
    "#                               else squad['bleu_score'][x]  for x in range(0, len(squad))]"
   ]
  },
  {
   "cell_type": "code",
   "execution_count": 15,
   "metadata": {},
   "outputs": [
    {
     "data": {
      "text/plain": [
       "0.7136528393072896"
      ]
     },
     "execution_count": 15,
     "metadata": {},
     "output_type": "execute_result"
    }
   ],
   "source": [
    "# len(squad[squad['final_bleu_score']>=0.5])/len(squad)"
   ]
  },
  {
   "cell_type": "code",
   "execution_count": 16,
   "metadata": {},
   "outputs": [],
   "source": [
    "# squad[(squad['weighted_bleu_score']>=0.3) & (squad['weighted_bleu_score']<=0.4)][[\"answer\",\"synthetic_answer\",\"answer_low_word_list\",\"syn_answer_low_word_list\",\"bleu_score\",\"weighted_bleu_score\",\"final_bleu_score\"]].head(15)"
   ]
  },
  {
   "cell_type": "code",
   "execution_count": 80,
   "metadata": {},
   "outputs": [
    {
     "data": {
      "text/plain": [
       "count    2483.000000\n",
       "mean        0.675896\n",
       "std         0.381131\n",
       "min         0.000000\n",
       "25%         0.333333\n",
       "50%         0.955375\n",
       "75%         1.000000\n",
       "max         1.000000\n",
       "Name: final_bleu_score, dtype: float64"
      ]
     },
     "execution_count": 80,
     "metadata": {},
     "output_type": "execute_result"
    }
   ],
   "source": [
    "# squad['final_bleu_score'].describe()"
   ]
  },
  {
   "cell_type": "code",
   "execution_count": 17,
   "metadata": {},
   "outputs": [
    {
     "data": {
      "text/plain": [
       "(array([ 347.,  105.,  107.,   93.,   59.,  251.,  104.,   88.,   58.,\n",
       "        1271.]),\n",
       " array([0. , 0.1, 0.2, 0.3, 0.4, 0.5, 0.6, 0.7, 0.8, 0.9, 1. ]),\n",
       " <BarContainer object of 10 artists>)"
      ]
     },
     "execution_count": 17,
     "metadata": {},
     "output_type": "execute_result"
    },
    {
     "data": {
      "image/png": "[encoded data removed]",
      "text/plain": [
       "<Figure size 640x480 with 1 Axes>"
      ]
     },
     "metadata": {},
     "output_type": "display_data"
    }
   ],
   "source": [
    "# plt.hist(squad['final_bleu_score'].tolist())"
   ]
  },
  {
   "cell_type": "markdown",
   "metadata": {},
   "source": [
    "#### conclusion\n",
    "* Post text treatment, bleu score is a good approximation. Will use it for assessing quality of the data"
   ]
  },
  {
   "cell_type": "code",
   "execution_count": null,
   "metadata": {},
   "outputs": [],
   "source": [
    "squad.groupby(['quality_check'])['bleu_score'].mean()"
   ]
  },
  {
   "cell_type": "code",
   "execution_count": null,
   "metadata": {},
   "outputs": [
    {
     "data": {
      "text/plain": [
       "0.7200966572694322"
      ]
     },
     "execution_count": 12,
     "metadata": {},
     "output_type": "execute_result"
    }
   ],
   "source": [
    "len(squad[squad['bleu_score']>=0.5])/len(squad)"
   ]
  },
  {
   "cell_type": "markdown",
   "metadata": {},
   "source": [
    "#### Generating Start position for GPT-annotated labels"
   ]
  },
  {
   "cell_type": "code",
   "execution_count": 9,
   "metadata": {},
   "outputs": [],
   "source": [
    "squad_v1 = squad[[\"question\",\"context\",\"answer\",\"synthetic_answer\",\"answer_lower\",\"synthetic_answer_lower\",\"answer_low_word_list\",\"syn_answer_low_word_list\",\"bleu_score\"]]"
   ]
  },
  {
   "cell_type": "code",
   "execution_count": 21,
   "metadata": {},
   "outputs": [
    {
     "data": {
      "text/plain": [
       "11"
      ]
     },
     "execution_count": 21,
     "metadata": {},
     "output_type": "execute_result"
    }
   ],
   "source": [
    "text = \"my name is palash choudhary\"\n",
    "key = \"palash choudhary\"\n",
    "text.find(key)"
   ]
  },
  {
   "cell_type": "code",
   "execution_count": 10,
   "metadata": {},
   "outputs": [
    {
     "name": "stderr",
     "output_type": "stream",
     "text": [
      "C:\\Users\\mails\\AppData\\Local\\Temp\\ipykernel_34668\\1041011714.py:1: SettingWithCopyWarning: \n",
      "A value is trying to be set on a copy of a slice from a DataFrame.\n",
      "Try using .loc[row_indexer,col_indexer] = value instead\n",
      "\n",
      "See the caveats in the documentation: https://pandas.pydata.org/pandas-docs/stable/user_guide/indexing.html#returning-a-view-versus-a-copy\n",
      "  squad_v1['answer_start_pos'] = [squad_v1['context'][x].find(squad_v1['answer'][x]) for x in range(0, len(squad_v1))]\n"
     ]
    },
    {
     "data": {
      "text/plain": [
       "count    2483.000000\n",
       "mean      326.735803\n",
       "std       294.403395\n",
       "min         0.000000\n",
       "25%       109.000000\n",
       "50%       247.000000\n",
       "75%       466.500000\n",
       "max      2103.000000\n",
       "Name: answer_start_pos, dtype: float64"
      ]
     },
     "execution_count": 10,
     "metadata": {},
     "output_type": "execute_result"
    }
   ],
   "source": [
    "squad_v1['answer_start_pos'] = [squad_v1['context'][x].find(squad_v1['answer'][x]) for x in range(0, len(squad_v1))]\n",
    "squad_v1['answer_start_pos'].describe()"
   ]
  },
  {
   "cell_type": "code",
   "execution_count": 11,
   "metadata": {},
   "outputs": [
    {
     "name": "stderr",
     "output_type": "stream",
     "text": [
      "C:\\Users\\mails\\AppData\\Local\\Temp\\ipykernel_34668\\233638732.py:4: SettingWithCopyWarning: \n",
      "A value is trying to be set on a copy of a slice from a DataFrame.\n",
      "Try using .loc[row_indexer,col_indexer] = value instead\n",
      "\n",
      "See the caveats in the documentation: https://pandas.pydata.org/pandas-docs/stable/user_guide/indexing.html#returning-a-view-versus-a-copy\n",
      "  squad_v1['syn_answer_start_pos'] = [squad_v1['context'][x].lower().find(squad_v1['synthetic_answer_lower'][x]) for x in range(0, len(squad_v1))]\n",
      "C:\\Users\\mails\\AppData\\Local\\Temp\\ipykernel_34668\\233638732.py:5: SettingWithCopyWarning: \n",
      "A value is trying to be set on a copy of a slice from a DataFrame.\n",
      "Try using .loc[row_indexer,col_indexer] = value instead\n",
      "\n",
      "See the caveats in the documentation: https://pandas.pydata.org/pandas-docs/stable/user_guide/indexing.html#returning-a-view-versus-a-copy\n",
      "  squad_v1['syn_answer_start_pos'] = [squad_v1['context'][x].lower().find(squad_v1['syn_answer_low_word_list'][x][0])\n"
     ]
    },
    {
     "data": {
      "text/plain": [
       "count    2483.000000\n",
       "mean      287.786549\n",
       "std       295.903034\n",
       "min        -1.000000\n",
       "25%        64.500000\n",
       "50%       206.000000\n",
       "75%       411.000000\n",
       "max      2081.000000\n",
       "Name: syn_answer_start_pos, dtype: float64"
      ]
     },
     "execution_count": 11,
     "metadata": {},
     "output_type": "execute_result"
    }
   ],
   "source": [
    "# squad_v1['syn_answer_start_pos'] = [squad_v1['context'][x].translate(str.maketrans('', '', string.punctuation)).lower().find(squad_v1['synthetic_answer'][x].translate(str.maketrans('', '', string.punctuation)).lower()) for x in range(0, len(squad_v1))]\n",
    "# squad_v1['syn_answer_start_pos'].describe()\n",
    "\n",
    "squad_v1['syn_answer_start_pos'] = [squad_v1['context'][x].lower().find(squad_v1['synthetic_answer_lower'][x]) for x in range(0, len(squad_v1))]\n",
    "squad_v1['syn_answer_start_pos'] = [squad_v1['context'][x].lower().find(squad_v1['syn_answer_low_word_list'][x][0]) \n",
    "                                    if squad_v1['syn_answer_start_pos'][x]==-1 else squad_v1['syn_answer_start_pos'][x]\n",
    "                                      for x in range(0, len(squad_v1))]\n",
    "\n",
    "squad_v1['syn_answer_start_pos'].describe()"
   ]
  },
  {
   "cell_type": "code",
   "execution_count": 12,
   "metadata": {},
   "outputs": [
    {
     "data": {
      "text/plain": [
       "117"
      ]
     },
     "execution_count": 12,
     "metadata": {},
     "output_type": "execute_result"
    }
   ],
   "source": [
    "len(squad_v1[squad_v1['syn_answer_start_pos']==-1])"
   ]
  },
  {
   "cell_type": "code",
   "execution_count": 16,
   "metadata": {},
   "outputs": [
    {
     "data": {
      "text/html": [
       "<div>\n",
       "<style scoped>\n",
       "    .dataframe tbody tr th:only-of-type {\n",
       "        vertical-align: middle;\n",
       "    }\n",
       "\n",
       "    .dataframe tbody tr th {\n",
       "        vertical-align: top;\n",
       "    }\n",
       "\n",
       "    .dataframe thead th {\n",
       "        text-align: right;\n",
       "    }\n",
       "</style>\n",
       "<table border=\"1\" class=\"dataframe\">\n",
       "  <thead>\n",
       "    <tr style=\"text-align: right;\">\n",
       "      <th></th>\n",
       "      <th>question</th>\n",
       "      <th>context</th>\n",
       "      <th>answer</th>\n",
       "      <th>synthetic_answer</th>\n",
       "      <th>answer_lower</th>\n",
       "      <th>synthetic_answer_lower</th>\n",
       "      <th>answer_low_word_list</th>\n",
       "      <th>syn_answer_low_word_list</th>\n",
       "      <th>bleu_score</th>\n",
       "      <th>answer_start_pos</th>\n",
       "      <th>syn_answer_start_pos</th>\n",
       "    </tr>\n",
       "  </thead>\n",
       "  <tbody>\n",
       "    <tr>\n",
       "      <th>18</th>\n",
       "      <td>How many departments are within the Stinson-Re...</td>\n",
       "      <td>The College of Engineering was established in ...</td>\n",
       "      <td>five</td>\n",
       "      <td>Three</td>\n",
       "      <td>five</td>\n",
       "      <td>three</td>\n",
       "      <td>[five]</td>\n",
       "      <td>[three]</td>\n",
       "      <td>0.000000</td>\n",
       "      <td>271</td>\n",
       "      <td>-1</td>\n",
       "    </tr>\n",
       "    <tr>\n",
       "      <th>27</th>\n",
       "      <td>In what year was a Master of Arts course first...</td>\n",
       "      <td>The university first offered graduate degrees,...</td>\n",
       "      <td>1854</td>\n",
       "      <td>1854-1855</td>\n",
       "      <td>1854</td>\n",
       "      <td>1854-1855</td>\n",
       "      <td>[1854]</td>\n",
       "      <td>[1854-1855]</td>\n",
       "      <td>0.000000</td>\n",
       "      <td>92</td>\n",
       "      <td>-1</td>\n",
       "    </tr>\n",
       "    <tr>\n",
       "      <th>31</th>\n",
       "      <td>In what year was the Joan B. Kroc Institute fo...</td>\n",
       "      <td>The Joan B. Kroc Institute for International P...</td>\n",
       "      <td>1986</td>\n",
       "      <td>1986.</td>\n",
       "      <td>1986</td>\n",
       "      <td>1986.</td>\n",
       "      <td>[1986]</td>\n",
       "      <td>[1986.]</td>\n",
       "      <td>0.000000</td>\n",
       "      <td>303</td>\n",
       "      <td>-1</td>\n",
       "    </tr>\n",
       "    <tr>\n",
       "      <th>50</th>\n",
       "      <td>What was the lifespan of John Augustine Zahm?</td>\n",
       "      <td>Father Joseph Carrier, C.S.C. was Director of ...</td>\n",
       "      <td>1851–1921</td>\n",
       "      <td>1851-1921</td>\n",
       "      <td>1851–1921</td>\n",
       "      <td>1851-1921</td>\n",
       "      <td>[1851–1921]</td>\n",
       "      <td>[1851-1921]</td>\n",
       "      <td>0.000000</td>\n",
       "      <td>353</td>\n",
       "      <td>-1</td>\n",
       "    </tr>\n",
       "    <tr>\n",
       "      <th>72</th>\n",
       "      <td>What threat does the Global Adaptation Index s...</td>\n",
       "      <td>As of 2012[update] research continued in many ...</td>\n",
       "      <td>climate change</td>\n",
       "      <td>Vulnerability to climate change</td>\n",
       "      <td>climate change</td>\n",
       "      <td>vulnerability to climate change</td>\n",
       "      <td>[climate, change]</td>\n",
       "      <td>[vulnerability, to, climate, change]</td>\n",
       "      <td>0.500000</td>\n",
       "      <td>891</td>\n",
       "      <td>-1</td>\n",
       "    </tr>\n",
       "    <tr>\n",
       "      <th>118</th>\n",
       "      <td>What was the lifespan of Theodore Hesburgh?</td>\n",
       "      <td>The Rev. Theodore Hesburgh, C.S.C., (1917–2015...</td>\n",
       "      <td>1917–2015</td>\n",
       "      <td>1917-2015</td>\n",
       "      <td>1917–2015</td>\n",
       "      <td>1917-2015</td>\n",
       "      <td>[1917–2015]</td>\n",
       "      <td>[1917-2015]</td>\n",
       "      <td>0.000000</td>\n",
       "      <td>37</td>\n",
       "      <td>-1</td>\n",
       "    </tr>\n",
       "    <tr>\n",
       "      <th>121</th>\n",
       "      <td>During what years was Theodor Hesburgh preside...</td>\n",
       "      <td>The Rev. Theodore Hesburgh, C.S.C., (1917–2015...</td>\n",
       "      <td>1952–87</td>\n",
       "      <td>1952-1987</td>\n",
       "      <td>1952–87</td>\n",
       "      <td>1952-1987</td>\n",
       "      <td>[1952–87]</td>\n",
       "      <td>[1952-1987]</td>\n",
       "      <td>0.000000</td>\n",
       "      <td>82</td>\n",
       "      <td>-1</td>\n",
       "    </tr>\n",
       "    <tr>\n",
       "      <th>128</th>\n",
       "      <td>During what years was Edward Malloy president ...</td>\n",
       "      <td>In the 18 years under the presidency of Edward...</td>\n",
       "      <td>1987–2005</td>\n",
       "      <td>1987-2005</td>\n",
       "      <td>1987–2005</td>\n",
       "      <td>1987-2005</td>\n",
       "      <td>[1987–2005]</td>\n",
       "      <td>[1987-2005]</td>\n",
       "      <td>0.000000</td>\n",
       "      <td>64</td>\n",
       "      <td>-1</td>\n",
       "    </tr>\n",
       "    <tr>\n",
       "      <th>171</th>\n",
       "      <td>In 1899 Notre Dame formed which college?</td>\n",
       "      <td>The School of Architecture was established in ...</td>\n",
       "      <td>School of Architecture</td>\n",
       "      <td>College of Architecture</td>\n",
       "      <td>school of architecture</td>\n",
       "      <td>college of architecture</td>\n",
       "      <td>[school, of, architecture]</td>\n",
       "      <td>[college, of, architecture]</td>\n",
       "      <td>0.666667</td>\n",
       "      <td>4</td>\n",
       "      <td>-1</td>\n",
       "    </tr>\n",
       "    <tr>\n",
       "      <th>179</th>\n",
       "      <td>Currently where does Notre Dame's library rank...</td>\n",
       "      <td>The library system also includes branch librar...</td>\n",
       "      <td>one of the 100 largest</td>\n",
       "      <td>Notre Dame's library remains one of the 100 la...</td>\n",
       "      <td>one of the 100 largest</td>\n",
       "      <td>notre dame's library remains one of the 100 la...</td>\n",
       "      <td>[one, of, the, 100, largest]</td>\n",
       "      <td>[notre, dame's, library, remains, one, of, the...</td>\n",
       "      <td>0.384615</td>\n",
       "      <td>654</td>\n",
       "      <td>-1</td>\n",
       "    </tr>\n",
       "  </tbody>\n",
       "</table>\n",
       "</div>"
      ],
      "text/plain": [
       "                                              question  \\\n",
       "18   How many departments are within the Stinson-Re...   \n",
       "27   In what year was a Master of Arts course first...   \n",
       "31   In what year was the Joan B. Kroc Institute fo...   \n",
       "50       What was the lifespan of John Augustine Zahm?   \n",
       "72   What threat does the Global Adaptation Index s...   \n",
       "118        What was the lifespan of Theodore Hesburgh?   \n",
       "121  During what years was Theodor Hesburgh preside...   \n",
       "128  During what years was Edward Malloy president ...   \n",
       "171           In 1899 Notre Dame formed which college?   \n",
       "179  Currently where does Notre Dame's library rank...   \n",
       "\n",
       "                                               context  \\\n",
       "18   The College of Engineering was established in ...   \n",
       "27   The university first offered graduate degrees,...   \n",
       "31   The Joan B. Kroc Institute for International P...   \n",
       "50   Father Joseph Carrier, C.S.C. was Director of ...   \n",
       "72   As of 2012[update] research continued in many ...   \n",
       "118  The Rev. Theodore Hesburgh, C.S.C., (1917–2015...   \n",
       "121  The Rev. Theodore Hesburgh, C.S.C., (1917–2015...   \n",
       "128  In the 18 years under the presidency of Edward...   \n",
       "171  The School of Architecture was established in ...   \n",
       "179  The library system also includes branch librar...   \n",
       "\n",
       "                     answer  \\\n",
       "18                     five   \n",
       "27                     1854   \n",
       "31                     1986   \n",
       "50                1851–1921   \n",
       "72           climate change   \n",
       "118               1917–2015   \n",
       "121                 1952–87   \n",
       "128               1987–2005   \n",
       "171  School of Architecture   \n",
       "179  one of the 100 largest   \n",
       "\n",
       "                                      synthetic_answer  \\\n",
       "18                                               Three   \n",
       "27                                           1854-1855   \n",
       "31                                               1986.   \n",
       "50                                           1851-1921   \n",
       "72                     Vulnerability to climate change   \n",
       "118                                          1917-2015   \n",
       "121                                          1952-1987   \n",
       "128                                          1987-2005   \n",
       "171                            College of Architecture   \n",
       "179  Notre Dame's library remains one of the 100 la...   \n",
       "\n",
       "               answer_lower  \\\n",
       "18                     five   \n",
       "27                     1854   \n",
       "31                     1986   \n",
       "50                1851–1921   \n",
       "72           climate change   \n",
       "118               1917–2015   \n",
       "121                 1952–87   \n",
       "128               1987–2005   \n",
       "171  school of architecture   \n",
       "179  one of the 100 largest   \n",
       "\n",
       "                                synthetic_answer_lower  \\\n",
       "18                                               three   \n",
       "27                                           1854-1855   \n",
       "31                                               1986.   \n",
       "50                                           1851-1921   \n",
       "72                     vulnerability to climate change   \n",
       "118                                          1917-2015   \n",
       "121                                          1952-1987   \n",
       "128                                          1987-2005   \n",
       "171                            college of architecture   \n",
       "179  notre dame's library remains one of the 100 la...   \n",
       "\n",
       "             answer_low_word_list  \\\n",
       "18                         [five]   \n",
       "27                         [1854]   \n",
       "31                         [1986]   \n",
       "50                    [1851–1921]   \n",
       "72              [climate, change]   \n",
       "118                   [1917–2015]   \n",
       "121                     [1952–87]   \n",
       "128                   [1987–2005]   \n",
       "171    [school, of, architecture]   \n",
       "179  [one, of, the, 100, largest]   \n",
       "\n",
       "                              syn_answer_low_word_list  bleu_score  \\\n",
       "18                                             [three]    0.000000   \n",
       "27                                         [1854-1855]    0.000000   \n",
       "31                                             [1986.]    0.000000   \n",
       "50                                         [1851-1921]    0.000000   \n",
       "72                [vulnerability, to, climate, change]    0.500000   \n",
       "118                                        [1917-2015]    0.000000   \n",
       "121                                        [1952-1987]    0.000000   \n",
       "128                                        [1987-2005]    0.000000   \n",
       "171                        [college, of, architecture]    0.666667   \n",
       "179  [notre, dame's, library, remains, one, of, the...    0.384615   \n",
       "\n",
       "     answer_start_pos  syn_answer_start_pos  \n",
       "18                271                    -1  \n",
       "27                 92                    -1  \n",
       "31                303                    -1  \n",
       "50                353                    -1  \n",
       "72                891                    -1  \n",
       "118                37                    -1  \n",
       "121                82                    -1  \n",
       "128                64                    -1  \n",
       "171                 4                    -1  \n",
       "179               654                    -1  "
      ]
     },
     "execution_count": 16,
     "metadata": {},
     "output_type": "execute_result"
    }
   ],
   "source": [
    "squad_v1[squad_v1['syn_answer_start_pos']==-1].head(10)"
   ]
  },
  {
   "cell_type": "markdown",
   "metadata": {},
   "source": [
    "##### Examples"
   ]
  },
  {
   "cell_type": "code",
   "execution_count": 17,
   "metadata": {},
   "outputs": [
    {
     "data": {
      "text/plain": [
       "\"The library system also includes branch libraries for Architecture, Chemistry & Physics, Engineering, Law, and Mathematics as well as information centers in the Mendoza College of Business, the Kellogg Institute for International Studies, the Joan B. Kroc Institute for International Peace Studies, and a slide library in O'Shaughnessy Hall. A theology library was also opened in fall of 2015. Located on the first floor of Stanford Hall, it is the first branch of the library system to be housed in a dorm room. The library system holds over three million volumes, was the single largest university library in the world upon its completion, and remains one of the 100 largest libraries in the country.\""
      ]
     },
     "execution_count": 17,
     "metadata": {},
     "output_type": "execute_result"
    }
   ],
   "source": [
    "squad_v1['context'][179]"
   ]
  },
  {
   "cell_type": "code",
   "execution_count": 59,
   "metadata": {},
   "outputs": [
    {
     "data": {
      "text/plain": [
       "'Notre Dame is known for its competitive admissions with the incoming class enrolling in fall 2015 admitting 3577 from a pool of 18156 197 The academic profile of the enrolled class continues to rate among the top 10 to 15 in the nation for national research universities The university practices a nonrestrictive early action policy that allows admitted students to consider admission to Notre Dame as well as any other colleges to which they were accepted 1400 of the 3577 391 were admitted under the early action plan Admitted students came from 1311 high schools and the average student traveled more than 750 miles to Notre Dame making it arguably the most representative university in the United States While all entering students begin in the College of the First Year of Studies 25 have indicated they plan to study in the liberal arts or social sciences 24 in engineering 24 in business 24 in science and 3 in architecture'"
      ]
     },
     "execution_count": 59,
     "metadata": {},
     "output_type": "execute_result"
    }
   ],
   "source": [
    "squad_v1['context'][39].translate(str.maketrans('', '', string.punctuation))"
   ]
  },
  {
   "cell_type": "markdown",
   "metadata": {},
   "source": [
    "#### Files"
   ]
  },
  {
   "cell_type": "code",
   "execution_count": 25,
   "metadata": {},
   "outputs": [
    {
     "name": "stdout",
     "output_type": "stream",
     "text": [
      "2483\n",
      "2366\n",
      "2366\n"
     ]
    }
   ],
   "source": [
    "df = squad_v1[['context', 'question', 'synthetic_answer_lower','bleu_score','syn_answer_start_pos']]\n",
    "print(len(df))\n",
    "df = df[df['syn_answer_start_pos']!=-1]\n",
    "print(len(df))\n",
    "df = df[~(df['synthetic_answer_lower']=='isimpossible')]\n",
    "print(len(df))\n",
    "# answer_dict = {'text':squad_v1['synthetic_answer_lower'].to_list(),\n",
    "#                'answer_start': squad_v1['syn_answer_start_pos'].to_list()}\n",
    "answers_list = [{'text':x[0], 'answer_start':x[1]} for x in zip(df['synthetic_answer_lower'].to_list(), df['syn_answer_start_pos'].to_list())]\n",
    "\n",
    "final_dict = {'Train':[\"Train\"]*len(df),\n",
    "              'question': df['question'].to_list(),\n",
    "              'context': df['context'].to_list(),\n",
    "              'answer': answers_list}\n"
   ]
  },
  {
   "cell_type": "code",
   "execution_count": 26,
   "metadata": {},
   "outputs": [],
   "source": [
    "import json\n",
    "with open('squal_training_final_dict.json', 'w') as f:\n",
    "    json.dump(final_dict, f)"
   ]
  },
  {
   "cell_type": "code",
   "execution_count": null,
   "metadata": {},
   "outputs": [],
   "source": []
  }
 ],
 "metadata": {
  "kernelspec": {
   "display_name": "Python 3",
   "language": "python",
   "name": "python3"
  },
  "language_info": {
   "codemirror_mode": {
    "name": "ipython",
    "version": 3
   },
   "file_extension": ".py",
   "mimetype": "text/x-python",
   "name": "python",
   "nbconvert_exporter": "python",
   "pygments_lexer": "ipython3",
   "version": "3.10.11"
  }
 },
 "nbformat": 4,
 "nbformat_minor": 2
}
